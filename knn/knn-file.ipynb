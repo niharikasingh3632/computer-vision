{
 "cells": [
  {
   "cell_type": "code",
   "execution_count": 2,
   "id": "dd4b5820",
   "metadata": {},
   "outputs": [],
   "source": [
    "import numpy as np\n",
    "import os\n",
    "import cv2"
   ]
  },
  {
   "cell_type": "code",
   "execution_count": 87,
   "id": "7d2cf66d",
   "metadata": {},
   "outputs": [],
   "source": [
    "class nearest_neighbour:\n",
    "\n",
    "    def __init__(self):\n",
    "        pass\n",
    "\n",
    "    def train(self, train_folder, train_labels):\n",
    "        self.train_folder = train_folder\n",
    "        self.train_labels = train_labels\n",
    "\n",
    "        self.train_path = [os.path.join(self.train_folder, img_name) for img_name in os.listdir(self.train_folder)]\n",
    "\n",
    "    def predict(self, test):\n",
    "        \n",
    "        self.test = test\n",
    "\n",
    "        self.test_path = [os.path.join(self.test, img_name) for img_name in os.listdir(self.test)]\n",
    "\n",
    "        self.predicted_labels = []\n",
    "\n",
    "        for test_image_path in self.test_path:\n",
    "            test_image = cv2.resize(cv2.imread(test_image_path), (250, 250))\n",
    "\n",
    "            predictions = [[np.sum(np.abs(test_image - cv2.resize(cv2.imread(train_image_path), (250,250)))), train_label] for train_image_path, train_label in zip(self.train_path, self.train_labels)]\n",
    "\n",
    "            sorted_predictions = sorted(predictions, key=lambda x: x[0])\n",
    "\n",
    "            print(sorted_predictions)\n",
    "\n",
    "            predicted_label = sorted_predictions[0][1]\n",
    "\n",
    "            self.predicted_labels.append([test_image_path, predicted_label])\n",
    "        \n",
    "        return self.predicted_labels\n"
   ]
  },
  {
   "cell_type": "code",
   "execution_count": 88,
   "id": "6b448fdb",
   "metadata": {},
   "outputs": [],
   "source": [
    "nn_classifier = nearest_neighbour()"
   ]
  },
  {
   "cell_type": "code",
   "execution_count": 89,
   "id": "dbe02ceb",
   "metadata": {},
   "outputs": [],
   "source": [
    "train_folder = \"train\""
   ]
  },
  {
   "cell_type": "code",
   "execution_count": 90,
   "id": "804a86fd",
   "metadata": {},
   "outputs": [],
   "source": [
    "\n",
    "train_labels = [\"truck\", \"truck\", \"truck\", \"car\", \"car\", \"car\", \"truck\", \"car\", \"truck\", \"car\"]"
   ]
  },
  {
   "cell_type": "code",
   "execution_count": 91,
   "id": "56cf8f01",
   "metadata": {},
   "outputs": [],
   "source": [
    "nn_classifier.train(train_folder=train_folder, train_labels=train_labels)"
   ]
  },
  {
   "cell_type": "code",
   "execution_count": 92,
   "id": "1aad4150",
   "metadata": {},
   "outputs": [],
   "source": [
    "test = \"test\""
   ]
  },
  {
   "cell_type": "code",
   "execution_count": 93,
   "id": "cfc53502",
   "metadata": {},
   "outputs": [
    {
     "name": "stdout",
     "output_type": "stream",
     "text": [
      "[[np.uint64(0), 'truck'], [np.uint64(22641147), 'car'], [np.uint64(23701432), 'truck'], [np.uint64(24614256), 'car'], [np.uint64(25807685), 'car'], [np.uint64(25808036), 'car'], [np.uint64(26092763), 'truck'], [np.uint64(26563521), 'truck'], [np.uint64(26807482), 'truck'], [np.uint64(27254807), 'car']]\n",
      "[[np.uint64(0), 'car'], [np.uint64(20673974), 'car'], [np.uint64(21716831), 'car'], [np.uint64(22029499), 'truck'], [np.uint64(22836597), 'truck'], [np.uint64(23053939), 'truck'], [np.uint64(23588988), 'truck'], [np.uint64(24548758), 'truck'], [np.uint64(25223979), 'car'], [np.uint64(25225938), 'car']]\n"
     ]
    },
    {
     "data": {
      "text/plain": [
       "[['test/img3.jpg', 'truck'], ['test/img1 copy.jpg', 'car']]"
      ]
     },
     "execution_count": 93,
     "metadata": {},
     "output_type": "execute_result"
    }
   ],
   "source": [
    "nn_classifier.predict(test)"
   ]
  },
  {
   "cell_type": "code",
   "execution_count": null,
   "id": "238bdbe5",
   "metadata": {},
   "outputs": [],
   "source": []
  }
 ],
 "metadata": {
  "kernelspec": {
   "display_name": "cvenv",
   "language": "python",
   "name": "python3"
  },
  "language_info": {
   "codemirror_mode": {
    "name": "ipython",
    "version": 3
   },
   "file_extension": ".py",
   "mimetype": "text/x-python",
   "name": "python",
   "nbconvert_exporter": "python",
   "pygments_lexer": "ipython3",
   "version": "3.12.3"
  }
 },
 "nbformat": 4,
 "nbformat_minor": 5
}
